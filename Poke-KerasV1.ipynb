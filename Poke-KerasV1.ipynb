{
 "cells": [
  {
   "cell_type": "markdown",
   "metadata": {},
   "source": [
    "# Import Packages"
   ]
  },
  {
   "cell_type": "code",
   "execution_count": 2,
   "metadata": {},
   "outputs": [
    {
     "name": "stderr",
     "output_type": "stream",
     "text": [
      "Using TensorFlow backend.\n"
     ]
    }
   ],
   "source": [
    "from keras.models import Sequential\n",
    "from keras.layers.normalization import BatchNormalization\n",
    "from keras.layers.convolutional import Conv2D\n",
    "from keras.layers.convolutional import MaxPooling2D\n",
    "from keras.layers.core import Activation\n",
    "from keras.layers.core import Flatten\n",
    "from keras.layers.core import Dropout\n",
    "from keras.layers.core import Dense\n",
    "from keras import backend as K\n",
    "#import packages\n",
    "import matplotlib\n",
    "matplotlib.use(\"Agg\")\n",
    "from keras.preprocessing.image import ImageDataGenerator #Augmentation\n",
    "from keras.optimizers import Adam\n",
    "from keras.preprocessing.image import img_to_array #Transform image to numpy array\n",
    "from sklearn.preprocessing import LabelBinarizer #Transform \"strings\" labels to one-hot encoded vectors\n",
    "from sklearn.model_selection import train_test_split\n",
    "from keras.models import load_model\n",
    "#from pyimagesearch.smallervggnet import SmallerVGGNet\n",
    "import matplotlib.pyplot as plt\n",
    "from imutils import paths\n",
    "import numpy as np\n",
    "import argparse\n",
    "import random\n",
    "import pickle\n",
    "import cv2\n",
    "import os\n",
    "from IPython.display import Image"
   ]
  },
  {
   "cell_type": "markdown",
   "metadata": {},
   "source": [
    "# Hyper Parameters Selection"
   ]
  },
  {
   "cell_type": "code",
   "execution_count": 2,
   "metadata": {},
   "outputs": [],
   "source": [
    "#Hyper Parameters\n",
    "Epochs = 100\n",
    "learning_rate=1e-3\n",
    "Batchsize=32\n",
    "IMAGE_DIMS=(128,128,3)"
   ]
  },
  {
   "cell_type": "markdown",
   "metadata": {},
   "source": [
    "# Image treatment (resizing and label appending)"
   ]
  },
  {
   "cell_type": "code",
   "execution_count": 3,
   "metadata": {},
   "outputs": [
    {
     "name": "stdout",
     "output_type": "stream",
     "text": [
      "C:\\Users\\javier.cuadra\\Documents\\Datasets\\POKEMON2\\pokeimages\\Bulbasaur\\61.png\n",
      "C:\\Users\\javier.cuadra\\Documents\\Datasets\\POKEMON2\\pokeimages\\Bulbasaur\\63.png\n",
      "C:\\Users\\javier.cuadra\\Documents\\Datasets\\POKEMON2\\pokeimages\\Bulbasaur\\67.png\n",
      "C:\\Users\\javier.cuadra\\Documents\\Datasets\\POKEMON2\\pokeimages\\Bulbasaur\\84.png\n",
      "C:\\Users\\javier.cuadra\\Documents\\Datasets\\POKEMON2\\pokeimages\\Ivysaur\\126.png\n",
      "C:\\Users\\javier.cuadra\\Documents\\Datasets\\POKEMON2\\pokeimages\\Ivysaur\\46.png\n",
      "C:\\Users\\javier.cuadra\\Documents\\Datasets\\POKEMON2\\pokeimages\\Venusaur\\80.png\n",
      "C:\\Users\\javier.cuadra\\Documents\\Datasets\\POKEMON2\\pokeimages\\Charmander\\134.png\n",
      "C:\\Users\\javier.cuadra\\Documents\\Datasets\\POKEMON2\\pokeimages\\Charmander\\136.png\n",
      "C:\\Users\\javier.cuadra\\Documents\\Datasets\\POKEMON2\\pokeimages\\Charmander\\31.png\n",
      "C:\\Users\\javier.cuadra\\Documents\\Datasets\\POKEMON2\\pokeimages\\Charmander\\52.png\n",
      "C:\\Users\\javier.cuadra\\Documents\\Datasets\\POKEMON2\\pokeimages\\Charmander\\61.png\n",
      "C:\\Users\\javier.cuadra\\Documents\\Datasets\\POKEMON2\\pokeimages\\Charmander\\63.png\n",
      "C:\\Users\\javier.cuadra\\Documents\\Datasets\\POKEMON2\\pokeimages\\Charmander\\84.png\n",
      "C:\\Users\\javier.cuadra\\Documents\\Datasets\\POKEMON2\\pokeimages\\Charmeleon\\129.png\n",
      "C:\\Users\\javier.cuadra\\Documents\\Datasets\\POKEMON2\\pokeimages\\Charmeleon\\140.png\n",
      "C:\\Users\\javier.cuadra\\Documents\\Datasets\\POKEMON2\\pokeimages\\Charmeleon\\31.png\n",
      "C:\\Users\\javier.cuadra\\Documents\\Datasets\\POKEMON2\\pokeimages\\Charmeleon\\52.png\n",
      "C:\\Users\\javier.cuadra\\Documents\\Datasets\\POKEMON2\\pokeimages\\Charmeleon\\81.png\n",
      "C:\\Users\\javier.cuadra\\Documents\\Datasets\\POKEMON2\\pokeimages\\Charizard\\126.png\n",
      "C:\\Users\\javier.cuadra\\Documents\\Datasets\\POKEMON2\\pokeimages\\Squirtle\\108.png\n",
      "C:\\Users\\javier.cuadra\\Documents\\Datasets\\POKEMON2\\pokeimages\\Squirtle\\123.png\n",
      "C:\\Users\\javier.cuadra\\Documents\\Datasets\\POKEMON2\\pokeimages\\Squirtle\\126.png\n",
      "C:\\Users\\javier.cuadra\\Documents\\Datasets\\POKEMON2\\pokeimages\\Squirtle\\132.png\n",
      "C:\\Users\\javier.cuadra\\Documents\\Datasets\\POKEMON2\\pokeimages\\Squirtle\\138.png\n",
      "C:\\Users\\javier.cuadra\\Documents\\Datasets\\POKEMON2\\pokeimages\\Squirtle\\144.png\n",
      "C:\\Users\\javier.cuadra\\Documents\\Datasets\\POKEMON2\\pokeimages\\Squirtle\\22.png\n",
      "C:\\Users\\javier.cuadra\\Documents\\Datasets\\POKEMON2\\pokeimages\\Squirtle\\67.png\n",
      "C:\\Users\\javier.cuadra\\Documents\\Datasets\\POKEMON2\\pokeimages\\Squirtle\\87.png\n",
      "C:\\Users\\javier.cuadra\\Documents\\Datasets\\POKEMON2\\pokeimages\\Squirtle\\99.png\n",
      "C:\\Users\\javier.cuadra\\Documents\\Datasets\\POKEMON2\\pokeimages\\Wartortle\\10.png\n",
      "C:\\Users\\javier.cuadra\\Documents\\Datasets\\POKEMON2\\pokeimages\\Wartortle\\101.png\n",
      "C:\\Users\\javier.cuadra\\Documents\\Datasets\\POKEMON2\\pokeimages\\Wartortle\\13.png\n",
      "C:\\Users\\javier.cuadra\\Documents\\Datasets\\POKEMON2\\pokeimages\\Wartortle\\2.png\n",
      "C:\\Users\\javier.cuadra\\Documents\\Datasets\\POKEMON2\\pokeimages\\Wartortle\\34.png\n",
      "C:\\Users\\javier.cuadra\\Documents\\Datasets\\POKEMON2\\pokeimages\\Wartortle\\54.png\n",
      "C:\\Users\\javier.cuadra\\Documents\\Datasets\\POKEMON2\\pokeimages\\Wartortle\\9.png\n",
      "C:\\Users\\javier.cuadra\\Documents\\Datasets\\POKEMON2\\pokeimages\\Blastoise\\111.png\n"
     ]
    }
   ],
   "source": [
    "data=[]\n",
    "labels=[]\n",
    "pokemonlist=[\"Bulbasaur\",\"Ivysaur\",\"Venusaur\",\"Charmander\",\"Charmeleon\",\"Charizard\",\"Squirtle\",\"Wartortle\",\"Blastoise\"]\n",
    "imagepaths=[]\n",
    "for pokemon in pokemonlist:\n",
    "    imagepath=sorted(list(paths.list_images(\"C:\\\\Users\\\\javier.cuadra\\\\Documents\\\\Datasets\\\\POKEMON2\\\\pokeimages\\\\\"+pokemon)))\n",
    "    imagepaths.extend(imagepath)\n",
    "for imagePath in imagepaths:\n",
    "    try:\n",
    "        image=cv2.imread(imagePath)\n",
    "        \n",
    "        image = cv2.resize(image, (128, 128))\n",
    "        image=img_to_array(image)\n",
    "        data.append(image)\n",
    "    \n",
    "        label=imagePath.split(os.path.sep)[-2]\n",
    "        labels.append(label)\n",
    "    except:\n",
    "        print(imagePath) #Error message in case that the image cannot be read"
   ]
  },
  {
   "cell_type": "markdown",
   "metadata": {},
   "source": [
    "# Normalization of the dataset and train/test split"
   ]
  },
  {
   "cell_type": "code",
   "execution_count": 4,
   "metadata": {},
   "outputs": [],
   "source": [
    "data=np.array(data,dtype=\"float\")/255.0\n",
    "labels=np.array(labels)\n",
    "lb=LabelBinarizer()\n",
    "labels=lb.fit_transform(labels)\n",
    "(trainX,testX,trainY,testY)=train_test_split(data,labels,test_size=0.2, random_state=42)"
   ]
  },
  {
   "cell_type": "markdown",
   "metadata": {},
   "source": [
    "# Generation of the augmentation set"
   ]
  },
  {
   "cell_type": "code",
   "execution_count": 5,
   "metadata": {},
   "outputs": [],
   "source": [
    "aug = ImageDataGenerator(rotation_range=25, width_shift_range=0.1,\n",
    "                        height_shift_range=0.1, shear_range=0.2, zoom_range=0.2,\n",
    "                        horizontal_flip=True, fill_mode='nearest')"
   ]
  },
  {
   "cell_type": "markdown",
   "metadata": {},
   "source": [
    "# Implementation of the VGG architecture with minor tweaks adapted to the image size"
   ]
  },
  {
   "cell_type": "code",
   "execution_count": 10,
   "metadata": {},
   "outputs": [],
   "source": [
    "model = Sequential()\n",
    "depth=3\n",
    "height=128\n",
    "width=128\n",
    "classes=9\n",
    "inputShape = [depth, height, width]\n",
    "chanDim = 1\n",
    "# Adding layers to our model\n",
    "model.add(Conv2D(32, (3, 3), padding=\"same\", input_shape=(128,128,3)))\n",
    "model.add(Activation(\"relu\"))\n",
    "model.add(BatchNormalization(axis=chanDim))\n",
    "model.add(MaxPooling2D(pool_size=(4, 4)))\n",
    "model.add(Dropout(0.25))\n",
    "    # (Conv+Relu)*2\n",
    "model.add(Conv2D(64,(3,3), padding=\"same\"))\n",
    "model.add(Activation(\"relu\"))\n",
    "model.add(BatchNormalization(axis=chanDim))\n",
    "model.add(Conv2D(64,(3,3), padding=\"same\"))\n",
    "model.add(Activation(\"relu\"))\n",
    "model.add(BatchNormalization(axis=chanDim))\n",
    "model.add(MaxPooling2D(pool_size=(2, 2)))\n",
    "model.add(Dropout(0.25))\n",
    "    # (Conv+Relu)*2\n",
    "model.add(Conv2D(128,(3,3), padding=\"same\"))\n",
    "model.add(Activation(\"relu\"))\n",
    "model.add(BatchNormalization(axis=chanDim))\n",
    "model.add(Conv2D(128,(3,3), padding=\"same\"))\n",
    "model.add(Activation(\"relu\"))\n",
    "model.add(BatchNormalization(axis=chanDim))\n",
    "model.add(MaxPooling2D(pool_size=(2, 2)))\n",
    "model.add(Dropout(0.25))\n",
    "    # FullyConnected+Softmax\n",
    "model.add(Flatten())\n",
    "model.add(Dense(1024))\n",
    "model.add(Activation(\"relu\"))\n",
    "model.add(BatchNormalization())\n",
    "model.add(Dropout(0.5))\n",
    "    # Softmax Classifier\n",
    "model.add(Dense(classes))\n",
    "model.add(Activation(\"softmax\"))"
   ]
  },
  {
   "cell_type": "markdown",
   "metadata": {},
   "source": [
    "# Initialization and training of the model"
   ]
  },
  {
   "cell_type": "code",
   "execution_count": 11,
   "metadata": {},
   "outputs": [],
   "source": [
    "#Initialize the model\n",
    "opt=Adam(lr=learning_rate,decay=learning_rate/Epochs)\n",
    "model.compile(loss=\"categorical_crossentropy\",optimizer=opt,\n",
    "             metrics=[\"accuracy\"])"
   ]
  },
  {
   "cell_type": "code",
   "execution_count": 12,
   "metadata": {},
   "outputs": [
    {
     "name": "stdout",
     "output_type": "stream",
     "text": [
      "[Info] Training network...\n",
      "Epoch 1/100\n",
      "23/23 [==============================] - 133s 6s/step - loss: 2.6633 - acc: 0.2538 - val_loss: 2.4348 - val_acc: 0.3717\n",
      "Epoch 2/100\n",
      "23/23 [==============================] - 130s 6s/step - loss: 2.1063 - acc: 0.3760 - val_loss: 3.3597 - val_acc: 0.3141\n",
      "Epoch 3/100\n",
      "23/23 [==============================] - 130s 6s/step - loss: 2.1183 - acc: 0.3490 - val_loss: 3.5651 - val_acc: 0.3665\n",
      "Epoch 4/100\n",
      "23/23 [==============================] - 130s 6s/step - loss: 1.6555 - acc: 0.4858 - val_loss: 2.9252 - val_acc: 0.4188\n",
      "Epoch 5/100\n",
      "23/23 [==============================] - 131s 6s/step - loss: 1.6594 - acc: 0.4524 - val_loss: 2.4669 - val_acc: 0.5183\n",
      "Epoch 6/100\n",
      "23/23 [==============================] - 129s 6s/step - loss: 1.4140 - acc: 0.5178 - val_loss: 3.4322 - val_acc: 0.4241\n",
      "Epoch 7/100\n",
      "23/23 [==============================] - 130s 6s/step - loss: 1.4515 - acc: 0.5264 - val_loss: 2.2427 - val_acc: 0.5236\n",
      "Epoch 8/100\n",
      "23/23 [==============================] - 130s 6s/step - loss: 1.3805 - acc: 0.5136 - val_loss: 1.6878 - val_acc: 0.5759\n",
      "Epoch 9/100\n",
      "23/23 [==============================] - 130s 6s/step - loss: 1.2854 - acc: 0.5757 - val_loss: 2.2137 - val_acc: 0.4817\n",
      "Epoch 10/100\n",
      "23/23 [==============================] - 130s 6s/step - loss: 1.2978 - acc: 0.5723 - val_loss: 1.7039 - val_acc: 0.5497\n",
      "Epoch 11/100\n",
      "23/23 [==============================] - 131s 6s/step - loss: 1.2790 - acc: 0.5663 - val_loss: 2.1155 - val_acc: 0.4450\n",
      "Epoch 12/100\n",
      "23/23 [==============================] - 131s 6s/step - loss: 1.3185 - acc: 0.5652 - val_loss: 1.6137 - val_acc: 0.5602\n",
      "Epoch 13/100\n",
      "23/23 [==============================] - 129s 6s/step - loss: 1.1413 - acc: 0.6074 - val_loss: 1.9535 - val_acc: 0.4869\n",
      "Epoch 14/100\n",
      "23/23 [==============================] - 130s 6s/step - loss: 1.2665 - acc: 0.5690 - val_loss: 2.6000 - val_acc: 0.5079\n",
      "Epoch 15/100\n",
      "23/23 [==============================] - 131s 6s/step - loss: 1.0508 - acc: 0.6386 - val_loss: 1.7504 - val_acc: 0.5393\n",
      "Epoch 16/100\n",
      "23/23 [==============================] - 130s 6s/step - loss: 1.1825 - acc: 0.5729 - val_loss: 2.5183 - val_acc: 0.4555\n",
      "Epoch 17/100\n",
      "23/23 [==============================] - 130s 6s/step - loss: 1.2409 - acc: 0.5770 - val_loss: 3.1803 - val_acc: 0.4660\n",
      "Epoch 18/100\n",
      "23/23 [==============================] - 131s 6s/step - loss: 1.0488 - acc: 0.6224 - val_loss: 1.8376 - val_acc: 0.5864\n",
      "Epoch 19/100\n",
      "23/23 [==============================] - 131s 6s/step - loss: 1.0843 - acc: 0.6293 - val_loss: 1.9159 - val_acc: 0.5497\n",
      "Epoch 20/100\n",
      "23/23 [==============================] - 130s 6s/step - loss: 1.1513 - acc: 0.5994 - val_loss: 2.4229 - val_acc: 0.4712\n",
      "Epoch 21/100\n",
      "23/23 [==============================] - 133s 6s/step - loss: 1.0717 - acc: 0.6223 - val_loss: 2.3387 - val_acc: 0.4503\n",
      "Epoch 22/100\n",
      "23/23 [==============================] - 132s 6s/step - loss: 1.0602 - acc: 0.6608 - val_loss: 1.4156 - val_acc: 0.6230\n",
      "Epoch 23/100\n",
      "23/23 [==============================] - 132s 6s/step - loss: 0.9061 - acc: 0.6799 - val_loss: 1.2331 - val_acc: 0.6545\n",
      "Epoch 24/100\n",
      "23/23 [==============================] - 133s 6s/step - loss: 0.8933 - acc: 0.7108 - val_loss: 1.2322 - val_acc: 0.6283\n",
      "Epoch 25/100\n",
      "23/23 [==============================] - 132s 6s/step - loss: 0.9391 - acc: 0.6643 - val_loss: 1.1750 - val_acc: 0.6073\n",
      "Epoch 26/100\n",
      "23/23 [==============================] - 133s 6s/step - loss: 0.9784 - acc: 0.6459 - val_loss: 1.3760 - val_acc: 0.5654\n",
      "Epoch 27/100\n",
      "23/23 [==============================] - 133s 6s/step - loss: 1.0206 - acc: 0.6483 - val_loss: 1.4919 - val_acc: 0.6073\n",
      "Epoch 28/100\n",
      "23/23 [==============================] - 133s 6s/step - loss: 0.9679 - acc: 0.6498 - val_loss: 1.1564 - val_acc: 0.6649\n",
      "Epoch 29/100\n",
      "23/23 [==============================] - 133s 6s/step - loss: 0.8667 - acc: 0.7079 - val_loss: 1.3202 - val_acc: 0.6545\n",
      "Epoch 30/100\n",
      "23/23 [==============================] - 132s 6s/step - loss: 0.8553 - acc: 0.6965 - val_loss: 1.3685 - val_acc: 0.6178\n",
      "Epoch 31/100\n",
      "23/23 [==============================] - 134s 6s/step - loss: 0.8139 - acc: 0.7269 - val_loss: 1.2708 - val_acc: 0.6073\n",
      "Epoch 32/100\n",
      "23/23 [==============================] - 130s 6s/step - loss: 0.7445 - acc: 0.7152 - val_loss: 1.2675 - val_acc: 0.5916\n",
      "Epoch 33/100\n",
      "23/23 [==============================] - 131s 6s/step - loss: 0.7740 - acc: 0.7137 - val_loss: 1.1930 - val_acc: 0.6597\n",
      "Epoch 34/100\n",
      "23/23 [==============================] - 140s 6s/step - loss: 0.7406 - acc: 0.7298 - val_loss: 1.5166 - val_acc: 0.6440\n",
      "Epoch 35/100\n",
      "23/23 [==============================] - 133s 6s/step - loss: 0.6139 - acc: 0.7717 - val_loss: 1.1828 - val_acc: 0.6545\n",
      "Epoch 36/100\n",
      "23/23 [==============================] - 129s 6s/step - loss: 0.7218 - acc: 0.7518 - val_loss: 0.9978 - val_acc: 0.7382\n",
      "Epoch 37/100\n",
      "23/23 [==============================] - 131s 6s/step - loss: 0.7809 - acc: 0.7188 - val_loss: 1.2176 - val_acc: 0.6440\n",
      "Epoch 38/100\n",
      "23/23 [==============================] - 139s 6s/step - loss: 0.7665 - acc: 0.7442 - val_loss: 1.2687 - val_acc: 0.6963\n",
      "Epoch 39/100\n",
      "23/23 [==============================] - 138s 6s/step - loss: 0.8730 - acc: 0.6891 - val_loss: 1.4773 - val_acc: 0.6387\n",
      "Epoch 40/100\n",
      "23/23 [==============================] - 131s 6s/step - loss: 0.7858 - acc: 0.7052 - val_loss: 1.0552 - val_acc: 0.6806\n",
      "Epoch 41/100\n",
      "23/23 [==============================] - 136s 6s/step - loss: 0.8296 - acc: 0.7106 - val_loss: 1.7486 - val_acc: 0.4921\n",
      "Epoch 42/100\n",
      "23/23 [==============================] - 140s 6s/step - loss: 0.7837 - acc: 0.7230 - val_loss: 1.3681 - val_acc: 0.6597\n",
      "Epoch 43/100\n",
      "23/23 [==============================] - 139s 6s/step - loss: 0.6799 - acc: 0.7516 - val_loss: 1.1862 - val_acc: 0.6702\n",
      "Epoch 44/100\n",
      "23/23 [==============================] - 127s 6s/step - loss: 0.7066 - acc: 0.7544 - val_loss: 1.0067 - val_acc: 0.7120\n",
      "Epoch 45/100\n",
      "23/23 [==============================] - 130s 6s/step - loss: 0.5667 - acc: 0.8016 - val_loss: 1.0557 - val_acc: 0.7487\n",
      "Epoch 46/100\n",
      "23/23 [==============================] - 128s 6s/step - loss: 0.6684 - acc: 0.7563 - val_loss: 1.1070 - val_acc: 0.6911\n",
      "Epoch 47/100\n",
      "23/23 [==============================] - 128s 6s/step - loss: 0.5463 - acc: 0.8112 - val_loss: 1.2279 - val_acc: 0.6963\n",
      "Epoch 48/100\n",
      "23/23 [==============================] - 128s 6s/step - loss: 0.5764 - acc: 0.8106 - val_loss: 1.1765 - val_acc: 0.7173\n",
      "Epoch 49/100\n",
      "23/23 [==============================] - 128s 6s/step - loss: 0.5637 - acc: 0.7911 - val_loss: 0.9500 - val_acc: 0.7277\n",
      "Epoch 50/100\n",
      "23/23 [==============================] - 128s 6s/step - loss: 0.5005 - acc: 0.8115 - val_loss: 1.0612 - val_acc: 0.6754\n",
      "Epoch 51/100\n",
      "23/23 [==============================] - 128s 6s/step - loss: 0.5333 - acc: 0.8316 - val_loss: 1.0153 - val_acc: 0.7277\n",
      "Epoch 52/100\n",
      "23/23 [==============================] - 128s 6s/step - loss: 0.4921 - acc: 0.8204 - val_loss: 1.0463 - val_acc: 0.7068\n",
      "Epoch 53/100\n",
      "23/23 [==============================] - 130s 6s/step - loss: 0.5285 - acc: 0.7990 - val_loss: 1.0163 - val_acc: 0.7277\n",
      "Epoch 54/100\n",
      "23/23 [==============================] - 128s 6s/step - loss: 0.4768 - acc: 0.8269 - val_loss: 1.3237 - val_acc: 0.6545\n",
      "Epoch 55/100\n",
      "23/23 [==============================] - 129s 6s/step - loss: 0.5240 - acc: 0.8125 - val_loss: 1.0470 - val_acc: 0.7068\n",
      "Epoch 56/100\n",
      "23/23 [==============================] - 132s 6s/step - loss: 0.5838 - acc: 0.7936 - val_loss: 2.2099 - val_acc: 0.5026\n",
      "Epoch 57/100\n",
      "23/23 [==============================] - 141s 6s/step - loss: 0.6774 - acc: 0.7574 - val_loss: 1.3005 - val_acc: 0.6597\n",
      "Epoch 58/100\n",
      "23/23 [==============================] - 142s 6s/step - loss: 0.5581 - acc: 0.8016 - val_loss: 1.1537 - val_acc: 0.7487\n",
      "Epoch 59/100\n",
      "23/23 [==============================] - 134s 6s/step - loss: 0.6580 - acc: 0.7576 - val_loss: 1.4217 - val_acc: 0.7016\n",
      "Epoch 60/100\n",
      "23/23 [==============================] - 129s 6s/step - loss: 0.5086 - acc: 0.8233 - val_loss: 1.1360 - val_acc: 0.7330\n",
      "Epoch 61/100\n",
      "23/23 [==============================] - 130s 6s/step - loss: 0.5248 - acc: 0.8025 - val_loss: 1.6552 - val_acc: 0.6440\n",
      "Epoch 62/100\n",
      "23/23 [==============================] - 129s 6s/step - loss: 0.4290 - acc: 0.8493 - val_loss: 1.1056 - val_acc: 0.7120\n",
      "Epoch 63/100\n",
      "23/23 [==============================] - 130s 6s/step - loss: 0.4706 - acc: 0.8342 - val_loss: 1.0594 - val_acc: 0.7539\n",
      "Epoch 64/100\n",
      "23/23 [==============================] - 129s 6s/step - loss: 0.4549 - acc: 0.8353 - val_loss: 1.1339 - val_acc: 0.7173\n",
      "Epoch 65/100\n",
      "23/23 [==============================] - 128s 6s/step - loss: 0.4480 - acc: 0.8319 - val_loss: 1.0334 - val_acc: 0.7225\n",
      "Epoch 66/100\n",
      "23/23 [==============================] - 130s 6s/step - loss: 0.4212 - acc: 0.8315 - val_loss: 1.0228 - val_acc: 0.7330\n",
      "Epoch 67/100\n",
      "23/23 [==============================] - 129s 6s/step - loss: 0.4396 - acc: 0.8493 - val_loss: 1.0115 - val_acc: 0.7435\n",
      "Epoch 68/100\n",
      "23/23 [==============================] - 129s 6s/step - loss: 0.4439 - acc: 0.8337 - val_loss: 1.1720 - val_acc: 0.7173\n",
      "Epoch 69/100\n",
      "23/23 [==============================] - 129s 6s/step - loss: 0.4379 - acc: 0.8445 - val_loss: 1.1955 - val_acc: 0.7068\n",
      "Epoch 70/100\n",
      "23/23 [==============================] - 129s 6s/step - loss: 0.3674 - acc: 0.8732 - val_loss: 0.9852 - val_acc: 0.7487\n",
      "Epoch 71/100\n",
      "23/23 [==============================] - 129s 6s/step - loss: 0.3775 - acc: 0.8644 - val_loss: 1.0615 - val_acc: 0.7487\n",
      "Epoch 72/100\n",
      "23/23 [==============================] - 129s 6s/step - loss: 0.4027 - acc: 0.8553 - val_loss: 0.9217 - val_acc: 0.7435\n",
      "Epoch 73/100\n",
      "23/23 [==============================] - 128s 6s/step - loss: 0.3910 - acc: 0.8577 - val_loss: 1.3617 - val_acc: 0.7330\n",
      "Epoch 74/100\n",
      "23/23 [==============================] - 129s 6s/step - loss: 0.4363 - acc: 0.8513 - val_loss: 1.0012 - val_acc: 0.7277\n",
      "Epoch 75/100\n",
      "23/23 [==============================] - 129s 6s/step - loss: 0.5123 - acc: 0.8227 - val_loss: 1.4867 - val_acc: 0.6754\n",
      "Epoch 76/100\n",
      "23/23 [==============================] - 129s 6s/step - loss: 0.5457 - acc: 0.8090 - val_loss: 1.4124 - val_acc: 0.6963\n",
      "Epoch 77/100\n",
      "23/23 [==============================] - 129s 6s/step - loss: 0.4413 - acc: 0.8365 - val_loss: 1.1322 - val_acc: 0.7749\n",
      "Epoch 78/100\n",
      "23/23 [==============================] - 130s 6s/step - loss: 0.4264 - acc: 0.8560 - val_loss: 1.3716 - val_acc: 0.7435\n",
      "Epoch 79/100\n",
      "23/23 [==============================] - 129s 6s/step - loss: 0.3885 - acc: 0.8653 - val_loss: 1.0910 - val_acc: 0.7277\n",
      "Epoch 80/100\n",
      "23/23 [==============================] - 128s 6s/step - loss: 0.3745 - acc: 0.8734 - val_loss: 0.9505 - val_acc: 0.7487\n",
      "Epoch 81/100\n",
      "23/23 [==============================] - 129s 6s/step - loss: 0.3279 - acc: 0.8972 - val_loss: 0.9225 - val_acc: 0.7644\n",
      "Epoch 82/100\n",
      "23/23 [==============================] - 129s 6s/step - loss: 0.3857 - acc: 0.8635 - val_loss: 1.0974 - val_acc: 0.6597\n",
      "Epoch 83/100\n",
      "23/23 [==============================] - 129s 6s/step - loss: 0.3387 - acc: 0.8724 - val_loss: 0.9704 - val_acc: 0.7644\n",
      "Epoch 84/100\n",
      "23/23 [==============================] - 129s 6s/step - loss: 0.4097 - acc: 0.8526 - val_loss: 2.0984 - val_acc: 0.5550\n",
      "Epoch 85/100\n",
      "23/23 [==============================] - 130s 6s/step - loss: 0.5582 - acc: 0.7880 - val_loss: 1.0996 - val_acc: 0.6754\n",
      "Epoch 86/100\n",
      "23/23 [==============================] - 129s 6s/step - loss: 0.4352 - acc: 0.8550 - val_loss: 1.1058 - val_acc: 0.7330\n",
      "Epoch 87/100\n",
      "23/23 [==============================] - 128s 6s/step - loss: 0.4920 - acc: 0.8285 - val_loss: 1.2510 - val_acc: 0.7173\n",
      "Epoch 88/100\n",
      "23/23 [==============================] - 130s 6s/step - loss: 0.4241 - acc: 0.8519 - val_loss: 1.2736 - val_acc: 0.7173\n",
      "Epoch 89/100\n",
      "23/23 [==============================] - 129s 6s/step - loss: 0.3524 - acc: 0.8769 - val_loss: 1.4305 - val_acc: 0.6911\n",
      "Epoch 90/100\n",
      "23/23 [==============================] - 129s 6s/step - loss: 0.4417 - acc: 0.8493 - val_loss: 1.2367 - val_acc: 0.7382\n",
      "Epoch 91/100\n",
      "23/23 [==============================] - 128s 6s/step - loss: 0.3930 - acc: 0.8698 - val_loss: 1.2351 - val_acc: 0.7277\n",
      "Epoch 92/100\n",
      "23/23 [==============================] - 130s 6s/step - loss: 0.3269 - acc: 0.8967 - val_loss: 1.0285 - val_acc: 0.7487\n",
      "Epoch 93/100\n",
      "23/23 [==============================] - 129s 6s/step - loss: 0.3551 - acc: 0.8609 - val_loss: 1.1120 - val_acc: 0.7225\n",
      "Epoch 94/100\n",
      "23/23 [==============================] - 46294s 2013s/step - loss: 0.3616 - acc: 0.8727 - val_loss: 1.1856 - val_acc: 0.7225\n",
      "Epoch 95/100\n",
      "23/23 [==============================] - 139s 6s/step - loss: 0.3906 - acc: 0.8577 - val_loss: 1.1447 - val_acc: 0.7225\n",
      "Epoch 96/100\n",
      "23/23 [==============================] - 135s 6s/step - loss: 0.2974 - acc: 0.8742 - val_loss: 1.0206 - val_acc: 0.7330\n",
      "Epoch 97/100\n",
      "23/23 [==============================] - 142s 6s/step - loss: 0.2896 - acc: 0.8999 - val_loss: 1.1969 - val_acc: 0.7173\n",
      "Epoch 98/100\n",
      "23/23 [==============================] - 143s 6s/step - loss: 0.3141 - acc: 0.8876 - val_loss: 0.9824 - val_acc: 0.7749\n",
      "Epoch 99/100\n",
      "23/23 [==============================] - 142s 6s/step - loss: 0.3696 - acc: 0.8757 - val_loss: 1.0286 - val_acc: 0.7330\n",
      "Epoch 100/100\n",
      "23/23 [==============================] - 134s 6s/step - loss: 0.3308 - acc: 0.8801 - val_loss: 1.1371 - val_acc: 0.7382\n"
     ]
    }
   ],
   "source": [
    "#Train the network\n",
    "print(\"[Info] Training network...\")\n",
    "H = model.fit_generator(aug.flow(trainX, trainY, batch_size=Batchsize),\n",
    "                       validation_data=(testX,testY),\n",
    "                       steps_per_epoch=len(trainX)//Batchsize,\n",
    "                       epochs=Epochs, verbose=1)"
   ]
  },
  {
   "cell_type": "markdown",
   "metadata": {},
   "source": [
    "# Save the model and the labels"
   ]
  },
  {
   "cell_type": "code",
   "execution_count": 16,
   "metadata": {},
   "outputs": [],
   "source": [
    "model.save(\"C:\\\\Users\\\\javier.cuadra\\\\Documents\\\\Python\\\\Keras\\\\modelnew\")\n",
    "f=open(\"C:\\\\Users\\\\javier.cuadra\\\\Documents\\\\Python\\\\Keras\\\\labelsnew\",\"wb\")\n",
    "f.write(pickle.dumps(lb))\n",
    "f.close()"
   ]
  },
  {
   "cell_type": "markdown",
   "metadata": {},
   "source": [
    "# Image Prediction"
   ]
  },
  {
   "cell_type": "code",
   "execution_count": 23,
   "metadata": {},
   "outputs": [],
   "source": [
    "#Clasificación\n",
    "imagepath=\"C:\\\\Users\\\\javier.cuadra\\\\Documents\\\\Python\\\\Keras\\\\ImagenesPrueba\\\\chargafas.jpg\"\n",
    "image = cv2.imread(imagepath)\n",
    "image=cv2.resize(image,(128,128))\n",
    "image=image.astype(\"float\")/255.0\n",
    "image=img_to_array(image)\n",
    "image=np.expand_dims(image,axis=0)\n",
    "\n",
    "#Carga del modelo\n",
    "model=load_model(\"C:\\\\Users\\\\javier.cuadra\\\\Documents\\\\Python\\\\Keras\\\\model2\")\n",
    "lb=pickle.loads(open(\"C:\\\\Users\\\\javier.cuadra\\\\Documents\\\\Python\\\\Keras\\\\labels2\",\"rb\").read())\n",
    "prueba=model.predict(image)[0]\n",
    "idx=np.argmax(prueba)\n",
    "label=lb.classes_[idx]"
   ]
  },
  {
   "cell_type": "code",
   "execution_count": 24,
   "metadata": {},
   "outputs": [
    {
     "data": {
      "image/jpeg": "[encoded data removed]",
      "text/plain": [
       "<IPython.core.display.Image object>"
      ]
     },
     "execution_count": 24,
     "metadata": {
      "image/jpeg": {
       "height": 200,
       "width": 200
      }
     },
     "output_type": "execute_result"
    }
   ],
   "source": [
    "Image(filename=imagepath,width=200, height=200) \n"
   ]
  },
  {
   "cell_type": "code",
   "execution_count": 25,
   "metadata": {},
   "outputs": [
    {
     "name": "stdout",
     "output_type": "stream",
     "text": [
      "El Pokemon es: Charmander\n"
     ]
    }
   ],
   "source": [
    "print(\"El Pokemon es: \" + label)"
   ]
  },
  {
   "cell_type": "code",
   "execution_count": null,
   "metadata": {},
   "outputs": [],
   "source": []
  }
 ],
 "metadata": {
  "kernelspec": {
   "display_name": "Python 3",
   "language": "python",
   "name": "python3"
  },
  "language_info": {
   "codemirror_mode": {
    "name": "ipython",
    "version": 3
   },
   "file_extension": ".py",
   "mimetype": "text/x-python",
   "name": "python",
   "nbconvert_exporter": "python",
   "pygments_lexer": "ipython3",
   "version": "3.6.5"
  }
 },
 "nbformat": 4,
 "nbformat_minor": 2
}
